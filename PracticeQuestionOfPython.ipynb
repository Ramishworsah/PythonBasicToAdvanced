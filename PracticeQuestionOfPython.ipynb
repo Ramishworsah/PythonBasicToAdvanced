{
 "cells": [
  {
   "cell_type": "markdown",
   "id": "c4b97e33",
   "metadata": {},
   "source": [
    "#Easy Level\n",
    "#1"
   ]
  },
  {
   "cell_type": "code",
   "execution_count": 2,
   "id": "aca5ef01",
   "metadata": {},
   "outputs": [
    {
     "name": "stdout",
     "output_type": "stream",
     "text": [
      "5 is an odd numbers\n"
     ]
    }
   ],
   "source": [
    "#Even or Odd Numbers \n",
    "num=int(input(\"Enter a number:\"))\n",
    "if(num%2==0):\n",
    "    print(f\"{num} is an even numbers\")\n",
    "else:\n",
    "    print(f\"{num} is an odd numbers\")    "
   ]
  },
  {
   "cell_type": "code",
   "execution_count": 4,
   "id": "79146257",
   "metadata": {},
   "outputs": [
    {
     "name": "stdout",
     "output_type": "stream",
     "text": [
      "-10 is a negative numbers \n"
     ]
    }
   ],
   "source": [
    "#positive, Negative or Zero\n",
    "num=int(input(\"Enter a number\"))\n",
    "if(num>0):\n",
    "    print(f\"{num} is a positive numbers\")\n",
    "elif(num<0):\n",
    "    print(f\"{num} is a negative numbers \")\n",
    "else:\n",
    "    print(f\"{num} is a zero number \")"
   ]
  },
  {
   "cell_type": "code",
   "execution_count": 5,
   "id": "030f609d",
   "metadata": {},
   "outputs": [
    {
     "name": "stdout",
     "output_type": "stream",
     "text": [
      "20 is maximum number\n"
     ]
    }
   ],
   "source": [
    "#Maximum of two numbers \n",
    "num1=int(input(\"Enter first numbers:\"))\n",
    "num2=int(input(\"Enter the second numbers :\"))\n",
    "if(num1>num2):\n",
    "    print(f\"{num1} is maximum number\")\n",
    "else:\n",
    "        print(f\"{num2} is maximum number\")"
   ]
  },
  {
   "cell_type": "code",
   "execution_count": 6,
   "id": "e1832fdf",
   "metadata": {},
   "outputs": [
    {
     "name": "stdout",
     "output_type": "stream",
     "text": [
      "2025 is not a leap year\n"
     ]
    }
   ],
   "source": [
    "#check a leap year\n",
    "year=int(input(\"Enter a leap year:\"))\n",
    "if(year%4==0 and year%100!=0) or(year%400==0):\n",
    "    print(f\"{year} is a leap year\")\n",
    "else:\n",
    "    print(f\"{year} is not a leap year\")"
   ]
  },
  {
   "cell_type": "code",
   "execution_count": null,
   "id": "bae6190f",
   "metadata": {},
   "outputs": [
    {
     "name": "stdout",
     "output_type": "stream",
     "text": [
      "15 sum of first N natural numbers :\n"
     ]
    }
   ],
   "source": [
    "#sum of first N Natural numbers \n",
    "num=int(input(\"Enter a number:\"))\n",
    "sum=0\n",
    "for i in range(num+1):\n",
    "    sum=sum+i\n",
    "print(f\"{sum} is a sum of first N natural numbers :\")"
   ]
  },
  {
   "cell_type": "code",
   "execution_count": 9,
   "id": "0e708c29",
   "metadata": {},
   "outputs": [
    {
     "name": "stdout",
     "output_type": "stream",
     "text": [
      "The multiplications tables is :\n",
      "3 * 1 == 3\n",
      "3 * 2 == 6\n",
      "3 * 3 == 9\n",
      "3 * 4 == 12\n",
      "3 * 5 == 15\n",
      "3 * 6 == 18\n",
      "3 * 7 == 21\n",
      "3 * 8 == 24\n",
      "3 * 9 == 27\n",
      "3 * 10 == 30\n"
     ]
    }
   ],
   "source": [
    "#Multiplication tables\n",
    "num=int(input(\"enter a number\"))\n",
    "print(\"The multiplications tables is :\")\n",
    "for i in range(1,11):\n",
    "    print(num,\"*\",i, \"==\" , num*i )"
   ]
  },
  {
   "cell_type": "code",
   "execution_count": 18,
   "id": "1a6c9638",
   "metadata": {},
   "outputs": [
    {
     "name": "stdout",
     "output_type": "stream",
     "text": [
      "6 is factorial of the 720\n"
     ]
    }
   ],
   "source": [
    "#factorial numbers\n",
    "num=int(input(\"Enter a numbers:\"))\n",
    "factorial=1\n",
    "if num<0 :\n",
    "    print(\"you have enter a wrong number\")\n",
    "else:\n",
    "    \n",
    "    for  i in range (1,num+1):\n",
    "      factorial=factorial*i\n",
    "    print(f\"{num} is factorial of the {factorial}\")"
   ]
  },
  {
   "cell_type": "markdown",
   "id": "9fd3178a",
   "metadata": {},
   "source": [
    "medium level"
   ]
  },
  {
   "cell_type": "code",
   "execution_count": 22,
   "id": "61632177",
   "metadata": {},
   "outputs": [
    {
     "name": "stdout",
     "output_type": "stream",
     "text": [
      "9 is not a prime numbers :\n"
     ]
    }
   ],
   "source": [
    "#prime numbers\n",
    "num=int(input(\"Enter a number from user:\"))\n",
    "count=0\n",
    "for i in range(1,num+1):\n",
    "    if(num%i==0):\n",
    "        count+=1\n",
    "if(count==2):\n",
    "    print(f\"{num} is a prime numbers:\")\n",
    "else:\n",
    "    print(f\"{num} is not a prime numbers :\")"
   ]
  },
  {
   "cell_type": "code",
   "execution_count": null,
   "id": "c6d16d75",
   "metadata": {},
   "outputs": [
    {
     "name": "stdout",
     "output_type": "stream",
     "text": [
      "the number of digits is 1\n"
     ]
    }
   ],
   "source": [
    "#count the digits\n",
    "num=int(input(\"Enter a number \"))\n",
    "count=0\n",
    "while(num>0): \n",
    "      \n",
    "    num=num//10\n",
    "    count+=1\n",
    "print(f\"the number of digits is {count}\")"
   ]
  },
  {
   "cell_type": "code",
   "execution_count": 34,
   "id": "961e5d90",
   "metadata": {},
   "outputs": [
    {
     "name": "stdout",
     "output_type": "stream",
     "text": [
      "The sum of the digit is 10\n"
     ]
    }
   ],
   "source": [
    "#Some of the digit\n",
    "num=int(input(\"Enter a number:\"))\n",
    "sum=0\n",
    "while(num>0):\n",
    "    digit=num%10\n",
    "    sum+=digit\n",
    "    num=num//10\n",
    "print(f\"The sum of the digit is {sum}\")"
   ]
  },
  {
   "cell_type": "code",
   "execution_count": null,
   "id": "e46bd363",
   "metadata": {},
   "outputs": [
    {
     "name": "stdout",
     "output_type": "stream",
     "text": [
      "123 is not a palindrome number\n"
     ]
    }
   ],
   "source": [
    "#Palindrome number\n",
    "num=int(input(\"Enter a number:\"))\n",
    "reverse=0   \n",
    "num1=num\n",
    "while(num>0):\n",
    "    digit=num%10\n",
    "    reverse=reverse*10+digit\n",
    "    num=num//10\n",
    "if(num1==reverse):\n",
    "    print(f\"{num1} is a palindrome number\")\n",
    "else:\n",
    "    print(f\"{num1} is not a palindrome number\") "
   ]
  },
  {
   "cell_type": "code",
   "execution_count": 43,
   "id": "2ae158db",
   "metadata": {},
   "outputs": [
    {
     "name": "stdout",
     "output_type": "stream",
     "text": [
      "9474 is an Armstrong number\n"
     ]
    }
   ],
   "source": [
    "#Armstrong number\n",
    "num=int(input(\"Enter a number:\"))\n",
    "sum=0\n",
    "num1=num \n",
    "order=len(str(num1))   \n",
    "while(num>0):\n",
    "    digit=num%10\n",
    "    \n",
    "    sum+=digit**order\n",
    "    num=num//10\n",
    "    \n",
    "    \n",
    "\n",
    "if(num1==sum):\n",
    "    print(f\"{num1} is an Armstrong number\")\n",
    "else:\n",
    "    print(f\"{num1} is not an Armstrong number\")"
   ]
  },
  {
   "cell_type": "code",
   "execution_count": 48,
   "id": "3759c9c2",
   "metadata": {},
   "outputs": [
    {
     "name": "stdout",
     "output_type": "stream",
     "text": [
      "*  \n",
      "* *  \n",
      "* * *  \n",
      "* * * *  \n",
      "* * * * *  \n"
     ]
    }
   ],
   "source": [
    "#print a right andle traingle\n",
    "num=int(input(\"Enter a number:\"))\n",
    "for i in range(1,num+1):\n",
    "    for j in range(1,i+1):\n",
    "        print(\"* \",end=\"\")\n",
    "    print(\" \")"
   ]
  },
  {
   "cell_type": "code",
   "execution_count": null,
   "id": "d0d8719e",
   "metadata": {},
   "outputs": [
    {
     "name": "stdout",
     "output_type": "stream",
     "text": [
      "Fibonacci series upto 5 is:\n",
      "0 1 1 2 3 5 "
     ]
    }
   ],
   "source": [
    "#fibonacci series\n",
    "num=int(input(\"Enter a number:\"))\n",
    "a=0\n",
    "b=1\n",
    "if num<=0:\n",
    "    print(\"Please enter a positive number\")\n",
    "elif num==1:\n",
    "    print(f\"Fibonacci series upto {num} is {a}\")\n",
    "else:\n",
    "    print(f\"Fibonacci series upto {num} is:\")\n",
    "    print(a, end=\" \")\n",
    "    print(b, end=\" \")\n",
    "    for i in range(2, num+1):\n",
    "        c = a + b\n",
    "        print(c, end=\" \")\n",
    "        a = b\n",
    "        b = c"
   ]
  },
  {
   "cell_type": "markdown",
   "id": "a651212d",
   "metadata": {},
   "source": [
    "PATTERN CODING "
   ]
  },
  {
   "cell_type": "markdown",
   "id": "5ef4fd07",
   "metadata": {},
   "source": [
    "1  \n",
    "12  \n",
    "123  \n",
    "1234  \n",
    "12345  \n"
   ]
  },
  {
   "cell_type": "code",
   "execution_count": 3,
   "id": "c91bbe8f",
   "metadata": {},
   "outputs": [
    {
     "name": "stdout",
     "output_type": "stream",
     "text": [
      "1\n",
      "12\n",
      "123\n",
      "1234\n",
      "12345\n"
     ]
    }
   ],
   "source": [
    "for i in range (1,6):\n",
    "    for j in range (1,i+1):\n",
    "        print(j,end=\"\")\n",
    "    print(\"\")"
   ]
  },
  {
   "cell_type": "markdown",
   "id": "5bb56308",
   "metadata": {},
   "source": [
    "54321  \n",
    "4321  \n",
    "321  \n",
    "21  \n",
    "1  \n",
    "reverse of the patter"
   ]
  },
  {
   "cell_type": "code",
   "execution_count": 7,
   "id": "96104121",
   "metadata": {},
   "outputs": [
    {
     "name": "stdout",
     "output_type": "stream",
     "text": [
      "54321\n",
      "4321\n",
      "321\n",
      "21\n",
      "1\n"
     ]
    }
   ],
   "source": [
    "for i in range (5,0,-1):\n",
    "    for j in range (i,0,-1):\n",
    "        print(j,end=\"\")\n",
    "    print(\"\")"
   ]
  },
  {
   "cell_type": "markdown",
   "id": "9e55438a",
   "metadata": {},
   "source": [
    "    1  \n",
    "   121  \n",
    "  12321  \n",
    " 1234321  \n",
    "123454321  \n"
   ]
  },
  {
   "cell_type": "code",
   "execution_count": 9,
   "id": "90864065",
   "metadata": {},
   "outputs": [
    {
     "name": "stdout",
     "output_type": "stream",
     "text": [
      "    1\n",
      "   121\n",
      "  12321\n",
      " 1234321\n",
      "123454321\n"
     ]
    }
   ],
   "source": [
    "#pascal pyramid\n",
    "#     1  \n",
    "#    121  \n",
    "#   12321  \n",
    "#  1234321  \n",
    "# 123454321  \n",
    "num = 5 \n",
    "for i in range(num):\n",
    "    for j in range(num-i-1):\n",
    "        print(\" \", end=\"\")\n",
    "    for j in range(1, i+2):\n",
    "        print(j, end=\"\")\n",
    "    for j in range(i, 0, -1):\n",
    "        print(j, end=\"\")\n",
    "    print()"
   ]
  },
  {
   "cell_type": "code",
   "execution_count": null,
   "id": "4ed11fdb",
   "metadata": {},
   "outputs": [],
   "source": []
  }
 ],
 "metadata": {
  "kernelspec": {
   "display_name": "Python 3",
   "language": "python",
   "name": "python3"
  },
  "language_info": {
   "codemirror_mode": {
    "name": "ipython",
    "version": 3
   },
   "file_extension": ".py",
   "mimetype": "text/x-python",
   "name": "python",
   "nbconvert_exporter": "python",
   "pygments_lexer": "ipython3",
   "version": "3.12.8"
  }
 },
 "nbformat": 4,
 "nbformat_minor": 5
}
