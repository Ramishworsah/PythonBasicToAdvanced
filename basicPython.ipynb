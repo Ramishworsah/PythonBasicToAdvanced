{
 "cells": [
  {
   "cell_type": "code",
   "execution_count": null,
   "id": "ce1850e8",
   "metadata": {},
   "outputs": [
    {
     "name": "stdout",
     "output_type": "stream",
     "text": [
      "hello\n"
     ]
    }
   ],
   "source": [
    "print(\"hello\")\n",
    "#this is a comment which can be ignored by interpreter "
   ]
  },
  {
   "cell_type": "markdown",
   "id": "0511b058",
   "metadata": {},
   "source": [
    "Basic program of the python"
   ]
  },
  {
   "cell_type": "code",
   "execution_count": 2,
   "id": "6375e091",
   "metadata": {},
   "outputs": [
    {
     "name": "stdout",
     "output_type": "stream",
     "text": [
      "hello akhil welcome to python\n",
      "this is full course of the python basic to advanced \n"
     ]
    },
    {
     "data": {
      "text/plain": [
       "'this is a multi line comment\\nwhich can be ignored by interpreter'"
      ]
     },
     "execution_count": 2,
     "metadata": {},
     "output_type": "execute_result"
    }
   ],
   "source": [
    "print(\"hello akhil welcome to python\")\n",
    "print(\"this is full course of the python basic to advanced \")\n",
    "#this is a comment which can be ignored by interpreter\n",
    "\"\"\"this is a multi line comment\n",
    "which can be ignored by interpreter\"\"\""
   ]
  },
  {
   "cell_type": "markdown",
   "id": "4ed065f3",
   "metadata": {},
   "source": [
    "variable and namenclature"
   ]
  },
  {
   "cell_type": "code",
   "execution_count": null,
   "id": "7b5ff7d9",
   "metadata": {},
   "outputs": [
    {
     "ename": "SyntaxError",
     "evalue": "invalid syntax (3987977481.py, line 6)",
     "output_type": "error",
     "traceback": [
      "\u001b[1;36m  Cell \u001b[1;32mIn[3], line 6\u001b[1;36m\u001b[0m\n\u001b[1;33m    $num=\"hey\"\u001b[0m\n\u001b[1;37m    ^\u001b[0m\n\u001b[1;31mSyntaxError\u001b[0m\u001b[1;31m:\u001b[0m invalid syntax\n"
     ]
    }
   ],
   "source": [
    "num=\"hello\"\n",
    "num1=\"akhil\"\n",
    "RamIshwor=\"689\"\n",
    "Ramishwor=\"55\"\n",
    "variable_name=\"name\"\n",
    "$num=\"hey\" #this is not allowed name of the variables \n",
    "n@num=\"jack\""
   ]
  },
  {
   "cell_type": "code",
   "execution_count": 5,
   "id": "eededa20",
   "metadata": {},
   "outputs": [
    {
     "name": "stdout",
     "output_type": "stream",
     "text": [
      "<class 'int'>\n",
      "<class 'int'>\n",
      "<class 'str'>\n"
     ]
    }
   ],
   "source": [
    "#\n",
    "# program of the variable #\n",
    "\n",
    "num=5\n",
    "num1=6\n",
    "print(type(num))\n",
    "print(type(num1))   # type() function to check out the data type of that variables name \n",
    "str=\"hello moh\"\n",
    "print(type(str))"
   ]
  },
  {
   "cell_type": "code",
   "execution_count": 6,
   "id": "2f61da43",
   "metadata": {},
   "outputs": [
    {
     "data": {
      "text/plain": [
       "str"
      ]
     },
     "execution_count": 6,
     "metadata": {},
     "output_type": "execute_result"
    }
   ],
   "source": [
    "snanke_case=\"snake_case\"\n",
    "camelCase=\"camelCase\"\n",
    "PascalCase=\"PascalCase\"\n",
    "type(snanke_case) # this is a snake case\n",
    "type(camelCase) # this is a camel case  \n",
    "type(PascalCase) # this is a pascal case"
   ]
  },
  {
   "cell_type": "markdown",
   "id": "801327a2",
   "metadata": {},
   "source": [
    "Data types in python"
   ]
  },
  {
   "cell_type": "code",
   "execution_count": 8,
   "id": "7a30a0ed",
   "metadata": {},
   "outputs": [
    {
     "name": "stdout",
     "output_type": "stream",
     "text": [
      "<class 'int'>\n",
      "<class 'float'>\n",
      "<class 'complex'>\n",
      "<class 'bool'>\n"
     ]
    }
   ],
   "source": [
    "# it has 3 data types\n",
    "# 1.Number\n",
    "# .integer, float, complex\n",
    "# 2.String\n",
    "# 3. Boolean\n",
    "\n",
    "num=3\n",
    "num1=3.5\n",
    "num2=3+5j\n",
    "print(type(num))  # <class 'int'>\n",
    "print(type(num1)) # <class 'float'> \n",
    "print(type(num2)) # <class 'complex'>\n",
    "num4=True;\n",
    "print(type(num4)) # <class 'bool'>"
   ]
  },
  {
   "cell_type": "code",
   "execution_count": 11,
   "id": "ae9ad25a",
   "metadata": {},
   "outputs": [
    {
     "name": "stdout",
     "output_type": "stream",
     "text": [
      "olleh\n"
     ]
    }
   ],
   "source": [
    "chr(65) # it will return the character of the ascii value\n",
    "str=\"hello\"\n",
    "print(str[::-1])"
   ]
  },
  {
   "cell_type": "markdown",
   "id": "07c96295",
   "metadata": {},
   "source": [
    "String Indexing part    and slicing "
   ]
  },
  {
   "cell_type": "code",
   "execution_count": null,
   "id": "996ae989",
   "metadata": {},
   "outputs": [
    {
     "name": "stdout",
     "output_type": "stream",
     "text": [
      "15\n",
      "uailv o\n",
      "puja i love you\n"
     ]
    }
   ],
   "source": [
    "str=\"puja i love you\"\n",
    "print(len(str))\n",
    "print(str[1:15:2])\n",
    "print(str[::]) # it will return the string in reverse order"
   ]
  },
  {
   "cell_type": "code",
   "execution_count": 16,
   "id": "4938051f",
   "metadata": {},
   "outputs": [
    {
     "name": "stdout",
     "output_type": "stream",
     "text": [
      "maahDrupkanaj\n"
     ]
    }
   ],
   "source": [
    "#inverse string in python\n",
    "str=\"janakpurDhaam\"\n",
    "print(str[::-1]) # it will return the string in reverse order"
   ]
  },
  {
   "cell_type": "code",
   "execution_count": null,
   "id": "0a2178a0",
   "metadata": {},
   "outputs": [
    {
     "name": "stdout",
     "output_type": "stream",
     "text": [
      "<class 'float'>\n"
     ]
    }
   ],
   "source": [
    "#implicit program \n",
    "# num=8\n",
    "# num1=9.5\n",
    "# sum= num+num1\n",
    "# print(sum) #\n",
    "\n",
    "#explicit program\n",
    "num=8  \n",
    "num1=float(num)  #explicit conversion of the data type\n",
    "print(type(num1)) "
   ]
  },
  {
   "cell_type": "markdown",
   "id": "b6078139",
   "metadata": {},
   "source": [
    "formate Sttring"
   ]
  },
  {
   "cell_type": "code",
   "execution_count": 24,
   "id": "e5d0bf38",
   "metadata": {},
   "outputs": [
    {
     "name": "stdout",
     "output_type": "stream",
     "text": [
      "your message is my name is akhil and my age is 24   \n"
     ]
    }
   ],
   "source": [
    "# num=\"Akhil\"\n",
    "# age=20\n",
    "# print(f\"you's name is {num} and your age is {age}\") \n",
    "\n",
    "# another example of f-string\n",
    "\n",
    "age=24\n",
    "name=\"akhil\"\n",
    "message=f\"my name is {name} and my age is {age}\"\n",
    "print(f\"your message is {message}   \")\n"
   ]
  },
  {
   "cell_type": "code",
   "execution_count": null,
   "id": "80fae96b",
   "metadata": {},
   "outputs": [
    {
     "name": "stdout",
     "output_type": "stream",
     "text": [
      "82 65 77 "
     ]
    },
    {
     "ename": "TypeError",
     "evalue": "can only concatenate str (not \"int\") to str",
     "output_type": "error",
     "traceback": [
      "\u001b[1;31m---------------------------------------------------------------------------\u001b[0m",
      "\u001b[1;31mTypeError\u001b[0m                                 Traceback (most recent call last)",
      "Cell \u001b[1;32mIn[10], line 11\u001b[0m\n\u001b[0;32m      9\u001b[0m num1\u001b[38;5;241m=\u001b[39m\u001b[38;5;241m6\u001b[39m\n\u001b[0;32m     10\u001b[0m \u001b[38;5;28mstr\u001b[39m\u001b[38;5;241m=\u001b[39m\u001b[38;5;124m\"\u001b[39m\u001b[38;5;124m8\u001b[39m\u001b[38;5;124m\"\u001b[39m\n\u001b[1;32m---> 11\u001b[0m num2\u001b[38;5;241m=\u001b[39m\u001b[38;5;28;43mstr\u001b[39;49m\u001b[38;5;241;43m+\u001b[39;49m\u001b[43mnum1\u001b[49m\n\u001b[0;32m     12\u001b[0m \u001b[38;5;28mprint\u001b[39m((num2))\n",
      "\u001b[1;31mTypeError\u001b[0m: can only concatenate str (not \"int\") to str"
     ]
    }
   ],
   "source": [
    "#revision time \n",
    "ord('A')\n",
    "chr(65)\n",
    "str=\"RAM\"\n",
    "for i in str:\n",
    "    print(ord(i), end=\" \")  # it will print the character of the string in the same line\n",
    "\n",
    "# implicit coversion\n"
   ]
  },
  {
   "cell_type": "markdown",
   "id": "5adb594c",
   "metadata": {},
   "source": [
    "Operator in Python "
   ]
  },
  {
   "cell_type": "code",
   "execution_count": 12,
   "id": "f4b8c607",
   "metadata": {},
   "outputs": [
    {
     "name": "stdout",
     "output_type": "stream",
     "text": [
      "36\n",
      "24\n",
      "180\n",
      "5.0\n",
      "0\n",
      "5\n",
      "729000000\n"
     ]
    }
   ],
   "source": [
    "#Airhtmatic # Operator in Python\n",
    "# +, -, *, /, %, //, **\n",
    "num1=30\n",
    "num2=6\n",
    "print(num1+num2)  # addition\n",
    "print(num1-num2)  # subtraction \n",
    "print(num1*num2)  # multiplication\n",
    "print(num1/num2)  # division\n",
    "print(num1%num2)  # modulus\n",
    "print(num1//num2)  # floor division\n",
    "print(num1**num2)  # exponentiation"
   ]
  },
  {
   "cell_type": "code",
   "execution_count": null,
   "id": "45b6aa43",
   "metadata": {},
   "outputs": [
    {
     "name": "stdout",
     "output_type": "stream",
     "text": [
      "False\n",
      "False\n"
     ]
    }
   ],
   "source": [
    "print(True and bool(0))\n"
   ]
  },
  {
   "cell_type": "markdown",
   "id": "f66d6a8c",
   "metadata": {},
   "source": [
    "#Conditional statement \n",
    "# if, elif, else"
   ]
  },
  {
   "cell_type": "code",
   "execution_count": 18,
   "id": "7092dcfc",
   "metadata": {},
   "outputs": [
    {
     "name": "stdout",
     "output_type": "stream",
     "text": [
      "I will do task A\n"
     ]
    }
   ],
   "source": [
    "a=13\n",
    "if a>10:\n",
    "    print(\"I will do task A\")\n",
    "else:\n",
    "    print(\"I will do task B\")"
   ]
  },
  {
   "cell_type": "code",
   "execution_count": 22,
   "id": "71e4010d",
   "metadata": {},
   "outputs": [
    {
     "name": "stdout",
     "output_type": "stream",
     "text": [
      "i will have a mango dolly\n"
     ]
    }
   ],
   "source": [
    "money=int(input(\"please provide me the money:\"))\n",
    "if money==10:\n",
    "    print(\"i will have a choco bar icecream\")\n",
    "elif money==20:\n",
    "    print(\"i will have a chocolate icecream\")\n",
    "else:\n",
    "    print(\"i will have a mango dolly\")"
   ]
  },
  {
   "cell_type": "markdown",
   "id": "d33326a0",
   "metadata": {},
   "source": [
    "Exercise"
   ]
  },
  {
   "cell_type": "code",
   "execution_count": null,
   "id": "5376a57f",
   "metadata": {},
   "outputs": [
    {
     "name": "stdout",
     "output_type": "stream",
     "text": [
      "The greater number is num2 25\n"
     ]
    }
   ],
   "source": [
    "#1 accept two numbers and print the gratest between them.\n",
    "num1=int(input(\"please enter the first number:\"))\n",
    "num2=int(input(\"please enter the second number:\"))\n",
    "if num1>num2:\n",
    "    print(f\"The greater number is  {num1}\")\n",
    "else:\n",
    "    print(f\"The greater number is  {num2}\")"
   ]
  },
  {
   "cell_type": "code",
   "execution_count": 31,
   "id": "9b3e818d",
   "metadata": {},
   "outputs": [
    {
     "name": "stdout",
     "output_type": "stream",
     "text": [
      "Something is error\n"
     ]
    }
   ],
   "source": [
    "\n",
    "#2 Accept the gender form the use as char and print the respective greeting message\n",
    "gender=input(\"Enter the gender :\")\n",
    "if gender==\"male\":\n",
    "    print(\"Good Morning Sir\")\n",
    "elif gender==\"female\":\n",
    "    print(\"Good Morning Maam:\")\n",
    "else:\n",
    "    print(\"Something is error\")\n"
   ]
  },
  {
   "cell_type": "code",
   "execution_count": 37,
   "id": "bcc2a73d",
   "metadata": {},
   "outputs": [
    {
     "name": "stdout",
     "output_type": "stream",
     "text": [
      "Even numbers :\n"
     ]
    }
   ],
   "source": [
    "#3 Accepts an integer and check whether it is an even number or odd\n",
    "num1=int(input(\"Enter the number from user:\"))\n",
    "if num1%2==0:\n",
    "    print(\"Even numbers :\")\n",
    "else:\n",
    "    print(\"Odd numbers :\")\n",
    "    "
   ]
  },
  {
   "cell_type": "code",
   "execution_count": 39,
   "id": "53c94d68",
   "metadata": {},
   "outputs": [
    {
     "name": "stdout",
     "output_type": "stream",
     "text": [
      "Hello shyam you are valid voter\n"
     ]
    }
   ],
   "source": [
    "#4 Accepts name and age from the  user . Check if the user is a valid voter or not \n",
    "name=input(\"Enter the user name\")\n",
    "age=int(input(\"Enter user age\"))\n",
    "if age>=18:\n",
    "    print(f\"Hello {name} you are valid voter\")\n",
    "else:\n",
    "    print(f\"Hello {name} are not a valid voter\")"
   ]
  },
  {
   "cell_type": "code",
   "execution_count": 2,
   "id": "68e3f37f",
   "metadata": {},
   "outputs": [
    {
     "name": "stdout",
     "output_type": "stream",
     "text": [
      "2023 is not a leap year\n"
     ]
    }
   ],
   "source": [
    "#!Accept a leap year and check if it a leap year or not \n",
    "year=int(input(\"Enter a year\"))\n",
    "if(year%4==0 and year%100!=0) or (year%400==0):\n",
    "    print(f\"{year} is a leap year\")\n",
    "else:\n",
    "    print(f\"{year} is not a leap year\")"
   ]
  },
  {
   "cell_type": "code",
   "execution_count": 3,
   "id": "2dbd4500",
   "metadata": {},
   "outputs": [
    {
     "name": "stdout",
     "output_type": "stream",
     "text": [
      "20 is the greatest number\n"
     ]
    }
   ],
   "source": [
    "#write a program of greater number between three numbers\n",
    "num1=int(input(\"Enter the first number:\"))\n",
    "num2=int(input(\"Enter the second number:\"))\n",
    "num3=int(input(\"Enter the third number:\"))\n",
    "if(num1>num2 and num1>num3):\n",
    "    print(f\"{num1} is the greatest number\")\n",
    "elif(num2>num1 and num2>num3):\n",
    "    print(f\"{num2} is the greatest number\")\n",
    "else:\n",
    "    print(f\"{num3} is the greatest number\") "
   ]
  },
  {
   "cell_type": "markdown",
   "id": "6c7dc0f0",
   "metadata": {},
   "source": [
    "For Loop in python"
   ]
  },
  {
   "cell_type": "code",
   "execution_count": 3,
   "id": "6799a813",
   "metadata": {},
   "outputs": [
    {
     "name": "stdout",
     "output_type": "stream",
     "text": [
      "1\n",
      "2\n",
      "3\n",
      "4\n",
      "5\n",
      "6\n"
     ]
    }
   ],
   "source": [
    "num=7\n",
    "for i in range(1,num):\n",
    "    print(i)"
   ]
  },
  {
   "cell_type": "markdown",
   "id": "b6ca96c0",
   "metadata": {},
   "source": [
    "looping : looping in python allows as execute a block of code multiple times without rewriting it .\n",
    "types of loop\n",
    "1.for loop\n",
    "2.while loop"
   ]
  },
  {
   "cell_type": "code",
   "execution_count": 5,
   "id": "1b832944",
   "metadata": {},
   "outputs": [
    {
     "name": "stdout",
     "output_type": "stream",
     "text": [
      "hello world\n",
      "hello world\n",
      "hello world\n",
      "hello world\n",
      "hello world\n",
      "hello world\n",
      "hello world\n",
      "hello world\n",
      "hello world\n",
      "hello world\n"
     ]
    }
   ],
   "source": [
    "#example of looping\n",
    "for i in range(1, 11):\n",
    "    print(\"hello world\")"
   ]
  },
  {
   "cell_type": "markdown",
   "id": "f33eddc8",
   "metadata": {},
   "source": [
    "FOR LOOP QUESTIONS"
   ]
  },
  {
   "cell_type": "code",
   "execution_count": 2,
   "id": "16db44e0",
   "metadata": {},
   "outputs": [
    {
     "name": "stdout",
     "output_type": "stream",
     "text": [
      "Hello world\n",
      "Hello world\n",
      "Hello world\n",
      "Hello world\n",
      "Hello world\n",
      "hello world\n",
      "hello world\n",
      "hello world\n",
      "hello world\n",
      "hello world\n"
     ]
    }
   ],
   "source": [
    "#ACCEPT  an integer and print hello world n times \n",
    "num=int(input(\"Enter a number:\"))\n",
    "for i in range(num):\n",
    "    print(\"Hello world\")\n",
    "\n",
    "# method 2\n",
    "for i in range(1,num+1,1):\n",
    "    print(\"hello world\")"
   ]
  },
  {
   "cell_type": "code",
   "execution_count": 5,
   "id": "e430f03b",
   "metadata": {},
   "outputs": [
    {
     "name": "stdout",
     "output_type": "stream",
     "text": [
      "hello world\n",
      "hello world\n",
      "hello world\n",
      "hello world\n",
      "hello world\n"
     ]
    }
   ],
   "source": [
    "#using recursion\n",
    "def Ntimes(num):\n",
    "    if num==0:\n",
    "        return \n",
    "    print(\"hello world\")\n",
    "    return Ntimes(num-1)\n",
    "\n",
    "Ntimes(5)\n",
    "    "
   ]
  },
  {
   "cell_type": "code",
   "execution_count": 7,
   "id": "f2e61b85",
   "metadata": {},
   "outputs": [
    {
     "name": "stdout",
     "output_type": "stream",
     "text": [
      "The natural number is :\n",
      "1\n",
      "2\n",
      "3\n",
      "4\n",
      "5\n",
      "6\n",
      "7\n",
      "8\n",
      "9\n",
      "10\n"
     ]
    }
   ],
   "source": [
    "#Print Natural number up to n\n",
    "num=int(input(\"Enter a number from user :\"))\n",
    "print(\"The natural number is :\")\n",
    "\n",
    "for i in range(1,num+1):\n",
    "    print(i)\n",
    "    "
   ]
  },
  {
   "cell_type": "code",
   "execution_count": 10,
   "id": "2fd6a998",
   "metadata": {},
   "outputs": [
    {
     "name": "stdout",
     "output_type": "stream",
     "text": [
      "1\n",
      "2\n",
      "3\n",
      "4\n",
      "5\n"
     ]
    }
   ],
   "source": [
    "#Using recursion to print natural numbers:\n",
    "def NaturalNumber(num,i):\n",
    "    if(num==0):\n",
    "        return\n",
    "    print(i)\n",
    "    \n",
    "    return NaturalNumber(num-1,i+1)\n",
    "\n",
    "NaturalNumber(5,1)    "
   ]
  },
  {
   "cell_type": "code",
   "execution_count": null,
   "id": "5cd60948",
   "metadata": {},
   "outputs": [
    {
     "name": "stdout",
     "output_type": "stream",
     "text": [
      "the reverse from n to 1\n"
     ]
    }
   ],
   "source": [
    "#Reverse for loop print n to 1\n",
    "num=int(input(\"Enter a  number:\"))\n",
    "print(\"the reverse from n to 1\")\n",
    "for i in range():\n",
    "    print(i)"
   ]
  },
  {
   "cell_type": "code",
   "execution_count": 13,
   "id": "15c245ef",
   "metadata": {},
   "outputs": [
    {
     "name": "stdout",
     "output_type": "stream",
     "text": [
      "The reverse number's :\n",
      "5\n",
      "4\n",
      "3\n",
      "2\n",
      "1\n"
     ]
    }
   ],
   "source": [
    "#reverse using recursion functins\n",
    "print(\"The reverse number's :\")\n",
    "def ReverseNumber(num):\n",
    "    if(num==0):\n",
    "        return \n",
    "    else:\n",
    "        print(num)\n",
    "        return ReverseNumber(num-1)\n",
    "num=int(input(\"Enter a number:\"))\n",
    "ReverseNumber(num)\n"
   ]
  },
  {
   "cell_type": "code",
   "execution_count": 14,
   "id": "0761d159",
   "metadata": {},
   "outputs": [
    {
     "name": "stdout",
     "output_type": "stream",
     "text": [
      "2 * 1 = 2\n",
      "2 * 2 = 4\n",
      "2 * 3 = 6\n",
      "2 * 4 = 8\n",
      "2 * 5 = 10\n",
      "2 * 6 = 12\n",
      "2 * 7 = 14\n",
      "2 * 8 = 16\n",
      "2 * 9 = 18\n",
      "2 * 10 = 20\n"
     ]
    }
   ],
   "source": [
    "#using recursion to print a table\n",
    "def table(num,i):\n",
    "    if(num>10):\n",
    "        return \n",
    "    print(i,\"*\",num,\"=\", i*num)\n",
    "    table(num+1,i)\n",
    "table(1,2)"
   ]
  },
  {
   "cell_type": "code",
   "execution_count": 15,
   "id": "6fbfce28",
   "metadata": {},
   "outputs": [
    {
     "name": "stdout",
     "output_type": "stream",
     "text": [
      "Your tabels is \n",
      "5 * 1 = 5\n",
      "5 * 2 = 10\n",
      "5 * 3 = 15\n",
      "5 * 4 = 20\n",
      "5 * 5 = 25\n",
      "5 * 6 = 30\n",
      "5 * 7 = 35\n",
      "5 * 8 = 40\n",
      "5 * 9 = 45\n",
      "5 * 10 = 50\n"
     ]
    }
   ],
   "source": [
    "#using for loop to print the tables\n",
    "num=int(input(\"Enter a number:\"))\n",
    "print(\"Your tabels is \")\n",
    "for i in range(1,11):\n",
    "    print(num,\"*\",i , \"=\", num*i)\n",
    "    "
   ]
  },
  {
   "cell_type": "code",
   "execution_count": 55,
   "id": "0edcb6a4",
   "metadata": {},
   "outputs": [
    {
     "name": "stdout",
     "output_type": "stream",
     "text": [
      "15\n"
     ]
    }
   ],
   "source": [
    "#using recursion to sum up to ntimes\n",
    "def Sum(num):\n",
    "    if(num==0):\n",
    "        return 0      \n",
    "    return num + Sum(num-1)\n",
    "print(Sum(5))"
   ]
  },
  {
   "cell_type": "code",
   "execution_count": 47,
   "id": "d4631104",
   "metadata": {},
   "outputs": [
    {
     "name": "stdout",
     "output_type": "stream",
     "text": [
      "120\n"
     ]
    }
   ],
   "source": [
    "#Factorial using recursion:\n",
    "def Factorial (num,fact):\n",
    "    if(num==0):\n",
    "        return fact\n",
    "    else:\n",
    "        fact*=num\n",
    "        return Factorial(num-1,fact)\n",
    "\n",
    "print(Factorial(5,1))\n",
    "        "
   ]
  },
  {
   "cell_type": "code",
   "execution_count": 64,
   "id": "954df6e8",
   "metadata": {},
   "outputs": [
    {
     "name": "stdout",
     "output_type": "stream",
     "text": [
      "The factors of 28 are:\n",
      "28\n",
      "28 is a perfect number\n"
     ]
    }
   ],
   "source": [
    "# print the factors of a number \n",
    "num=int(input(\"Enter a number:\"))\n",
    "num1=num\n",
    "print(f\"The factors of {num} are:\")\n",
    "sum=0\n",
    "for i in range(1, num ):\n",
    "    if num % i == 0:\n",
    "        sum+=i\n",
    "print(sum)\n",
    "\n",
    "if(sum==num1):\n",
    "    print(f\"{num} is a perfect number\")\n",
    "else:\n",
    "    print(f\"{num} is not a perfect number\")\n"
   ]
  },
  {
   "cell_type": "code",
   "execution_count": 66,
   "id": "cbe01b8b",
   "metadata": {},
   "outputs": [
    {
     "name": "stdout",
     "output_type": "stream",
     "text": [
      "1\n",
      "2\n",
      "3\n",
      "4\n",
      "6\n",
      "12\n"
     ]
    }
   ],
   "source": [
    "#using recursion to print the factors of a number\n",
    "def Factors(num, i=1):\n",
    "    if i > num:\n",
    "        return\n",
    "    if num % i == 0:\n",
    "        print(i)\n",
    "    Factors(num, i + 1)\n",
    "\n",
    "Factors(12)  "
   ]
  },
  {
   "cell_type": "markdown",
   "id": "4e39d228",
   "metadata": {},
   "source": [
    "for while loop"
   ]
  },
  {
   "cell_type": "code",
   "execution_count": 69,
   "id": "ec5b07bc",
   "metadata": {},
   "outputs": [
    {
     "name": "stdout",
     "output_type": "stream",
     "text": [
      "1\n",
      "2\n",
      "3\n",
      "4\n",
      "5\n",
      "6\n",
      "7\n",
      "8\n",
      "9\n",
      "10\n",
      "11\n",
      "12\n",
      "13\n",
      "14\n",
      "15\n",
      "16\n",
      "17\n",
      "18\n",
      "19\n",
      "20\n",
      "21\n",
      "22\n",
      "23\n",
      "24\n",
      "25\n",
      "26\n",
      "27\n",
      "28\n",
      "29\n",
      "30\n"
     ]
    }
   ],
   "source": [
    "a=1\n",
    "while a<=30:\n",
    "   print(a) \n",
    "   a+=1"
   ]
  },
  {
   "cell_type": "code",
   "execution_count": null,
   "id": "fecd0944",
   "metadata": {},
   "outputs": [
    {
     "name": "stdout",
     "output_type": "stream",
     "text": [
      "4\n",
      "3\n",
      "2\n",
      "1\n"
     ]
    }
   ],
   "source": [
    "#seperate the digit and print in the new line\n",
    "num=int(input(\"Enter a number:\"))\n",
    "while num > 0:\n",
    "    digit = num % 10\n",
    "    print(digit)\n",
    "\n",
    "    num //= 10  "
   ]
  },
  {
   "cell_type": "code",
   "execution_count": 78,
   "id": "f394fa48",
   "metadata": {},
   "outputs": [
    {
     "name": "stdout",
     "output_type": "stream",
     "text": [
      "256 reversed is 652\n"
     ]
    }
   ],
   "source": [
    "#example of while loop\n",
    "a=256\n",
    "reverse=0\n",
    "num=a\n",
    "while(a>0):\n",
    "    digit = a % 10\n",
    "    reverse = reverse * 10 + digit\n",
    "    a //= 10\n",
    "\n",
    "print(f\"{num} reversed is {reverse}\")\n",
    "    "
   ]
  },
  {
   "cell_type": "code",
   "execution_count": 79,
   "id": "1d841852",
   "metadata": {},
   "outputs": [
    {
     "name": "stdout",
     "output_type": "stream",
     "text": [
      "121 is a palindrome number\n"
     ]
    }
   ],
   "source": [
    "#palindorme number\n",
    "\n",
    "num=int(input(\"Enter a number:\"))\n",
    "rev=0\n",
    "temp=num\n",
    "while num > 0:\n",
    "    digit = num % 10\n",
    "    rev = rev * 10 + digit\n",
    "    num //= 10\n",
    "if(temp==rev):\n",
    "    print(f\"{temp} is a palindrome number\")\n",
    "else:\n",
    "    print(f\"{temp} is not a palindrome number\")"
   ]
  },
  {
   "cell_type": "code",
   "execution_count": null,
   "id": "caf09c3e",
   "metadata": {},
   "outputs": [],
   "source": []
  },
  {
   "cell_type": "code",
   "execution_count": null,
   "id": "4bb016ca",
   "metadata": {},
   "outputs": [],
   "source": []
  }
 ],
 "metadata": {
  "kernelspec": {
   "display_name": "Python 3",
   "language": "python",
   "name": "python3"
  },
  "language_info": {
   "codemirror_mode": {
    "name": "ipython",
    "version": 3
   },
   "file_extension": ".py",
   "mimetype": "text/x-python",
   "name": "python",
   "nbconvert_exporter": "python",
   "pygments_lexer": "ipython3",
   "version": "3.12.8"
  }
 },
 "nbformat": 4,
 "nbformat_minor": 5
}
