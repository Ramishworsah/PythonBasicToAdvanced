{
 "cells": [
  {
   "cell_type": "code",
   "execution_count": null,
   "id": "ce1850e8",
   "metadata": {},
   "outputs": [
    {
     "name": "stdout",
     "output_type": "stream",
     "text": [
      "hello\n"
     ]
    }
   ],
   "source": [
    "print(\"hello\")\n",
    "#this is a comment which can be ignored by interpreter "
   ]
  },
  {
   "cell_type": "markdown",
   "id": "0511b058",
   "metadata": {},
   "source": [
    "Basic program of the python"
   ]
  },
  {
   "cell_type": "code",
   "execution_count": 2,
   "id": "6375e091",
   "metadata": {},
   "outputs": [
    {
     "name": "stdout",
     "output_type": "stream",
     "text": [
      "hello akhil welcome to python\n",
      "this is full course of the python basic to advanced \n"
     ]
    },
    {
     "data": {
      "text/plain": [
       "'this is a multi line comment\\nwhich can be ignored by interpreter'"
      ]
     },
     "execution_count": 2,
     "metadata": {},
     "output_type": "execute_result"
    }
   ],
   "source": [
    "print(\"hello akhil welcome to python\")\n",
    "print(\"this is full course of the python basic to advanced \")\n",
    "#this is a comment which can be ignored by interpreter\n",
    "\"\"\"this is a multi line comment\n",
    "which can be ignored by interpreter\"\"\""
   ]
  },
  {
   "cell_type": "markdown",
   "id": "4ed065f3",
   "metadata": {},
   "source": [
    "variable and namenclature"
   ]
  },
  {
   "cell_type": "code",
   "execution_count": null,
   "id": "7b5ff7d9",
   "metadata": {},
   "outputs": [
    {
     "ename": "SyntaxError",
     "evalue": "invalid syntax (3987977481.py, line 6)",
     "output_type": "error",
     "traceback": [
      "\u001b[1;36m  Cell \u001b[1;32mIn[3], line 6\u001b[1;36m\u001b[0m\n\u001b[1;33m    $num=\"hey\"\u001b[0m\n\u001b[1;37m    ^\u001b[0m\n\u001b[1;31mSyntaxError\u001b[0m\u001b[1;31m:\u001b[0m invalid syntax\n"
     ]
    }
   ],
   "source": [
    "num=\"hello\"\n",
    "num1=\"akhil\"\n",
    "RamIshwor=\"689\"\n",
    "Ramishwor=\"55\"\n",
    "variable_name=\"name\"\n",
    "$num=\"hey\" #this is not allowed name of the variables \n",
    "n@num=\"jack\""
   ]
  },
  {
   "cell_type": "code",
   "execution_count": 5,
   "id": "eededa20",
   "metadata": {},
   "outputs": [
    {
     "name": "stdout",
     "output_type": "stream",
     "text": [
      "<class 'int'>\n",
      "<class 'int'>\n",
      "<class 'str'>\n"
     ]
    }
   ],
   "source": [
    "#\n",
    "# program of the variable #\n",
    "\n",
    "num=5\n",
    "num1=6\n",
    "print(type(num))\n",
    "print(type(num1))   # type() function to check out the data type of that variables name \n",
    "str=\"hello moh\"\n",
    "print(type(str))"
   ]
  },
  {
   "cell_type": "code",
   "execution_count": 6,
   "id": "2f61da43",
   "metadata": {},
   "outputs": [
    {
     "data": {
      "text/plain": [
       "str"
      ]
     },
     "execution_count": 6,
     "metadata": {},
     "output_type": "execute_result"
    }
   ],
   "source": [
    "snanke_case=\"snake_case\"\n",
    "camelCase=\"camelCase\"\n",
    "PascalCase=\"PascalCase\"\n",
    "type(snanke_case) # this is a snake case\n",
    "type(camelCase) # this is a camel case  \n",
    "type(PascalCase) # this is a pascal case"
   ]
  },
  {
   "cell_type": "markdown",
   "id": "801327a2",
   "metadata": {},
   "source": [
    "Data types in python"
   ]
  },
  {
   "cell_type": "code",
   "execution_count": 8,
   "id": "7a30a0ed",
   "metadata": {},
   "outputs": [
    {
     "name": "stdout",
     "output_type": "stream",
     "text": [
      "<class 'int'>\n",
      "<class 'float'>\n",
      "<class 'complex'>\n",
      "<class 'bool'>\n"
     ]
    }
   ],
   "source": [
    "# it has 3 data types\n",
    "# 1.Number\n",
    "# .integer, float, complex\n",
    "# 2.String\n",
    "# 3. Boolean\n",
    "\n",
    "num=3\n",
    "num1=3.5\n",
    "num2=3+5j\n",
    "print(type(num))  # <class 'int'>\n",
    "print(type(num1)) # <class 'float'> \n",
    "print(type(num2)) # <class 'complex'>\n",
    "num4=True;\n",
    "print(type(num4)) # <class 'bool'>"
   ]
  },
  {
   "cell_type": "code",
   "execution_count": 11,
   "id": "ae9ad25a",
   "metadata": {},
   "outputs": [
    {
     "name": "stdout",
     "output_type": "stream",
     "text": [
      "olleh\n"
     ]
    }
   ],
   "source": [
    "chr(65) # it will return the character of the ascii value\n",
    "str=\"hello\"\n",
    "print(str[::-1])"
   ]
  },
  {
   "cell_type": "markdown",
   "id": "07c96295",
   "metadata": {},
   "source": [
    "String Indexing part"
   ]
  },
  {
   "cell_type": "code",
   "execution_count": 14,
   "id": "996ae989",
   "metadata": {},
   "outputs": [
    {
     "name": "stdout",
     "output_type": "stream",
     "text": [
      "15\n",
      "uailv o\n"
     ]
    }
   ],
   "source": [
    "str=\"puja i love you\"\n",
    "print(len(str))\n",
    "print(str[1:15:2])"
   ]
  }
 ],
 "metadata": {
  "kernelspec": {
   "display_name": "Python 3",
   "language": "python",
   "name": "python3"
  },
  "language_info": {
   "codemirror_mode": {
    "name": "ipython",
    "version": 3
   },
   "file_extension": ".py",
   "mimetype": "text/x-python",
   "name": "python",
   "nbconvert_exporter": "python",
   "pygments_lexer": "ipython3",
   "version": "3.12.8"
  }
 },
 "nbformat": 4,
 "nbformat_minor": 5
}
