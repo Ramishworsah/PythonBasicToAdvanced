{
 "cells": [
  {
   "cell_type": "code",
   "execution_count": 1,
   "id": "9e393573",
   "metadata": {},
   "outputs": [
    {
     "name": "stdout",
     "output_type": "stream",
     "text": [
      "hello\n"
     ]
    }
   ],
   "source": [
    "print(\"hello\")"
   ]
  },
  {
   "cell_type": "code",
   "execution_count": 3,
   "id": "37a244ff",
   "metadata": {},
   "outputs": [
    {
     "name": "stdout",
     "output_type": "stream",
     "text": [
      "The given number is 5 even\n"
     ]
    }
   ],
   "source": [
    "#Even and Odd number nu\n",
    "num=int(input(\"enter number\"))\n",
    "if(num%2==0):\n",
    "    print(f\"The given number is {num} even\")\n",
    "else:\n",
    "        print(f\"The given number is {num} even\")\n",
    "        "
   ]
  },
  {
   "cell_type": "code",
   "execution_count": 4,
   "id": "a3ced583",
   "metadata": {},
   "outputs": [
    {
     "name": "stdout",
     "output_type": "stream",
     "text": [
      "Zero number : 0\n"
     ]
    }
   ],
   "source": [
    "num=int(input(\"Enter the number :\"))\n",
    "if(num>0):\n",
    "    print(f\"positive number : {num}\")\n",
    "elif num<0:\n",
    "    print(f\"Negative number is : {num}\")\n",
    "else:\n",
    "    print(f\"Zero number : {num}\")"
   ]
  },
  {
   "cell_type": "code",
   "execution_count": 6,
   "id": "c821b6fd",
   "metadata": {},
   "outputs": [
    {
     "name": "stdout",
     "output_type": "stream",
     "text": [
      "the maximum number is : 10\n"
     ]
    }
   ],
   "source": [
    "#maximum of two number \n",
    "num1=int(input(\"Etner first number \"))\n",
    "num2=int(input(\"Etner second number \"))\n",
    "if(num1>num2 ):\n",
    "    print(f\"the maximum number is : {num1}\")\n",
    "else : \n",
    "    print(f\"The greater number is  : {num2}\")"
   ]
  },
  {
   "cell_type": "code",
   "execution_count": 8,
   "id": "f8040f19",
   "metadata": {},
   "outputs": [
    {
     "name": "stdout",
     "output_type": "stream",
     "text": [
      "The given year  2028 is leap year :\n"
     ]
    }
   ],
   "source": [
    "year=int(input(\"Enter the leap year\"))\n",
    "if(year%4==0 and year%100!=0 ) or (year%400==0):\n",
    "    print(F\"The given year  {year} is leap year :\")\n",
    "else:\n",
    "    print(f\"the given year is not  {year} leap \")\n"
   ]
  },
  {
   "cell_type": "markdown",
   "id": "92c5c537",
   "metadata": {},
   "source": [
    "Practice question of string\n"
   ]
  },
  {
   "cell_type": "code",
   "execution_count": 17,
   "id": "f9b83668",
   "metadata": {},
   "outputs": [
    {
     "name": "stdout",
     "output_type": "stream",
     "text": [
      "<\n",
      "=\n",
      ">\n",
      "?\n",
      "@\n",
      "A\n",
      "B\n",
      "C\n",
      "D\n",
      "E\n",
      "F\n",
      "G\n",
      "H\n",
      "I\n",
      "J\n",
      "K\n",
      "L\n",
      "M\n",
      "N\n",
      "O\n",
      "P\n",
      "Q\n",
      "R\n",
      "S\n",
      "T\n",
      "U\n",
      "V\n",
      "W\n",
      "X\n",
      "Y\n",
      "Z\n",
      "[\n",
      "\\\n",
      "]\n",
      "^\n",
      "_\n",
      "`\n",
      "a\n",
      "b\n",
      "c\n"
     ]
    }
   ],
   "source": [
    "# name=input(\"Enter any string:\")\n",
    "# num=len(name)\n",
    "for i in range(60,100):\n",
    "    print(chr(i))"
   ]
  },
  {
   "cell_type": "code",
   "execution_count": null,
   "id": "5d8e2e0f",
   "metadata": {},
   "outputs": [
    {
     "name": "stdout",
     "output_type": "stream",
     "text": [
      "el oa\n"
     ]
    }
   ],
   "source": [
    "name=\"hello mohan\"\n",
    "print(name[1:12:2]) # this is called a slcicing in python"
   ]
  },
  {
   "cell_type": "code",
   "execution_count": null,
   "id": "ce8f28a6",
   "metadata": {},
   "outputs": [
    {
     "name": "stdout",
     "output_type": "stream",
     "text": [
      "nahom olleh\n",
      "<reversed object at 0x000001C6DC7D7010>\n"
     ]
    }
   ],
   "source": [
    "# print(name[::-1]) #inverse of the function\n",
    "# print(reverse(name))"
   ]
  },
  {
   "cell_type": "code",
   "execution_count": 25,
   "id": "a8c6b92f",
   "metadata": {},
   "outputs": [
    {
     "name": "stdout",
     "output_type": "stream",
     "text": [
      "2\n",
      "3\n",
      "5\n",
      "7\n",
      "11\n",
      "13\n",
      "17\n",
      "19\n",
      "23\n",
      "29\n",
      "31\n",
      "37\n",
      "41\n",
      "43\n",
      "47\n",
      "53\n",
      "59\n",
      "61\n",
      "67\n",
      "71\n",
      "73\n",
      "79\n",
      "83\n",
      "89\n",
      "97\n"
     ]
    }
   ],
   "source": [
    "def PrimeNumber(num):\n",
    "    count=0\n",
    "    for i in range(1,num+1):\n",
    "        if(num%i==0):\n",
    "            count+=1\n",
    "    if(count==2):\n",
    "        print(num)\n",
    "num=int(input(\"Enter a number\"))\n",
    "for i in range (1,num+1):\n",
    "    PrimeNumber(i)"
   ]
  },
  {
   "cell_type": "code",
   "execution_count": 29,
   "id": "b91eac38",
   "metadata": {},
   "outputs": [
    {
     "name": "stdout",
     "output_type": "stream",
     "text": [
      "0\n"
     ]
    }
   ],
   "source": [
    "#count the digit\n",
    "digit =int(input(\"Enter a digit\"))\n",
    "count=0\n",
    "while digit>0:\n",
    "      digit=digit//10\n",
    "      count+=1\n",
    "     \n",
    "print(count)"
   ]
  },
  {
   "cell_type": "code",
   "execution_count": 32,
   "id": "8fcae06b",
   "metadata": {},
   "outputs": [
    {
     "name": "stdout",
     "output_type": "stream",
     "text": [
      "321\n"
     ]
    }
   ],
   "source": [
    "digit =int(input(\"Enter a digit\"))\n",
    "\n",
    "reverse=0\n",
    "while digit>0:\n",
    "      m=digit%10\n",
    "      reverse=reverse*10+m\n",
    "      digit//=10\n",
    "print(reverse)\n",
    "    "
   ]
  },
  {
   "cell_type": "code",
   "execution_count": 34,
   "id": "54b67e0d",
   "metadata": {},
   "outputs": [
    {
     "name": "stdout",
     "output_type": "stream",
     "text": [
      "6\n"
     ]
    }
   ],
   "source": [
    "#sum of digit\n",
    "digit =int(input(\"Enter a digit\"))\n",
    "\n",
    "Sum=0\n",
    "while digit>0:\n",
    "      m=digit%10\n",
    "      Sum+=m\n",
    "      digit//=10\n",
    "print(Sum)"
   ]
  },
  {
   "cell_type": "code",
   "execution_count": null,
   "id": "3e818a2e",
   "metadata": {},
   "outputs": [
    {
     "name": "stdout",
     "output_type": "stream",
     "text": [
      "121\n",
      "The given number is palindrome :\n"
     ]
    }
   ],
   "source": [
    "#palindrome of the number \n",
    "digit =int(input(\"Enter a digit\"))\n",
    "num=digit\n",
    "\n",
    "reverse=0\n",
    "while digit>0:\n",
    "      m=digit%10\n",
    "      reverse=reverse*10+m\n",
    "      digit//=10\n",
    "if(reverse==num):\n",
    "    print(f\"The given number is palindrome :\")\n",
    "else:\n",
    "    print(f\"The given number is not a palindrome :\")\n",
    "        \n"
   ]
  },
  {
   "cell_type": "code",
   "execution_count": 39,
   "id": "60347815",
   "metadata": {},
   "outputs": [
    {
     "name": "stdout",
     "output_type": "stream",
     "text": [
      "armstrong number \n"
     ]
    }
   ],
   "source": [
    "#Amrstrong number \n",
    "digit =int(input(\"Enter a digit\"))\n",
    "order=len (str(digit))\n",
    "reverse=0\n",
    "num=digit\n",
    "\n",
    "reverse=0\n",
    "while digit>0:\n",
    "      m=digit%10\n",
    "      reverse+=m**order\n",
    "      digit//=10\n",
    "if(reverse==num):\n",
    "    print(\"armstrong number \")\n",
    "else:\n",
    "    print(\"not a armstrong number \")"
   ]
  },
  {
   "cell_type": "code",
   "execution_count": 44,
   "id": "65627611",
   "metadata": {},
   "outputs": [
    {
     "name": "stdout",
     "output_type": "stream",
     "text": [
      "0 0 0 0 0 0 \n",
      "1 1 1 1 1 1 \n",
      "2 2 2 2 2 2 \n",
      "3 3 3 3 3 3 \n",
      "4 4 4 4 4 4 \n",
      "5 5 5 5 5 5 \n"
     ]
    }
   ],
   "source": [
    "#star printing \n",
    "for i in range (0,6):\n",
    "    for j in range (0,6):\n",
    "        print(i,end=\" \")\n",
    "    print(\"\")"
   ]
  },
  {
   "cell_type": "code",
   "execution_count": 50,
   "id": "b80acbd3",
   "metadata": {},
   "outputs": [
    {
     "name": "stdout",
     "output_type": "stream",
     "text": [
      "6 5 4 3 2 1 \n",
      "6 5 4 3 2 \n",
      "6 5 4 3 \n",
      "6 5 4 \n",
      "6 5 \n",
      "6 \n"
     ]
    }
   ],
   "source": [
    "for i in range (6,0,-1):\n",
    "    for j in range (6,6-i,-1):\n",
    "        print(j,end=\" \")\n",
    "    print(\"\")"
   ]
  },
  {
   "cell_type": "code",
   "execution_count": 56,
   "id": "13d35a8f",
   "metadata": {},
   "outputs": [
    {
     "name": "stdout",
     "output_type": "stream",
     "text": [
      "* * * * * * \n",
      "*         * \n",
      "*         * \n",
      "*         * \n",
      "*         * \n",
      "* * * * * * \n"
     ]
    }
   ],
   "source": [
    "#rectangle\n",
    "for i in range (0,6):\n",
    "    for j in range (0,6):\n",
    "        if(i==0 or i==5 or j==0 or j==5):\n",
    "            print(\"*\",end=\" \")\n",
    "        else:\n",
    "            print(\" \",end=\" \")\n",
    "    print(\"\")"
   ]
  }
 ],
 "metadata": {
  "kernelspec": {
   "display_name": "Python 3",
   "language": "python",
   "name": "python3"
  },
  "language_info": {
   "codemirror_mode": {
    "name": "ipython",
    "version": 3
   },
   "file_extension": ".py",
   "mimetype": "text/x-python",
   "name": "python",
   "nbconvert_exporter": "python",
   "pygments_lexer": "ipython3",
   "version": "3.12.8"
  }
 },
 "nbformat": 4,
 "nbformat_minor": 5
}
